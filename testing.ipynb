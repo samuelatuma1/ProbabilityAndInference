{
 "metadata": {
  "language_info": {
   "codemirror_mode": {
    "name": "ipython",
    "version": 3
   },
   "file_extension": ".py",
   "mimetype": "text/x-python",
   "name": "python",
   "nbconvert_exporter": "python",
   "pygments_lexer": "ipython3",
   "version": "3.8.3-final"
  },
  "orig_nbformat": 2,
  "kernelspec": {
   "name": "python3",
   "display_name": "Python 3.8.3 32-bit",
   "metadata": {
    "interpreter": {
     "hash": "3001c8cfc79630db691d4f79c395de0c97715e2b4f3754dddc7eae8d33dfa05e"
    }
   }
  }
 },
 "nbformat": 4,
 "nbformat_minor": 2,
 "cells": [
  {
   "cell_type": "code",
   "execution_count": 3,
   "metadata": {},
   "outputs": [
    {
     "output_type": "stream",
     "name": "stdout",
     "text": [
      " A union B = {'TT', 'HH', 'TH', 'HT'} \n A intersection B = {'HT'} \n B compliment = {'TT'}\n"
     ]
    }
   ],
   "source": [
    "# Simulating Two coin flips\n",
    "sample_space = {'HH', 'HT', 'TH', 'TT'}\n",
    "A = {'HT', 'TT'}\n",
    "B = {'HH', 'HT', 'TH'}\n",
    "#Printing probabilities of eents\n",
    "print(f' A union B = {A | B} \\n A intersection B = {A & B} \\n B compliment = {sample_space - B}' )\n"
   ]
  },
  {
   "cell_type": "code",
   "execution_count": 91,
   "metadata": {},
   "outputs": [],
   "source": [
    "# Translating an event = sum of the probabilities of the possible outcome of A \n",
    "def prob_of_event(event, prob_space):\n",
    "    total = 0\n",
    "    for outcome in event:\n",
    "        addit = prob_space[outcome]\n",
    "        total += addit\n",
    "    return total\n",
    "\n"
   ]
  },
  {
   "cell_type": "code",
   "execution_count": 92,
   "metadata": {},
   "outputs": [
    {
     "output_type": "stream",
     "name": "stdout",
     "text": [
      "0.5\n"
     ]
    }
   ],
   "source": [
    "prob_space = {'sunny': 1/2, 'rainy': 1/6, 'snowy': 1/3}\n",
    "event = {'rainy', 'snowy'}\n",
    "\n",
    "print(prob_of_event(event, prob_space))"
   ]
  },
  {
   "cell_type": "code",
   "execution_count": 94,
   "metadata": {},
   "outputs": [
    {
     "output_type": "stream",
     "name": "stdout",
     "text": [
      "0.8\n"
     ]
    }
   ],
   "source": [
    "prob_space = {'b': 0.3, 'm': 0.5, 'n': 0.2}\n",
    "event = {'b', 'm'}\n",
    "print(prob_of_event(event, prob_space))"
   ]
  },
  {
   "cell_type": "code",
   "execution_count": 109,
   "metadata": {},
   "outputs": [
    {
     "output_type": "stream",
     "name": "stdout",
     "text": [
      "sample space: [(1, 1), (1, 2), (1, 3), (1, 4), (1, 5), (1, 6), (2, 1), (2, 2), (2, 3), (2, 4), (2, 5), (2, 6), (3, 1), (3, 2), (3, 3), (3, 4), (3, 5), (3, 6), (4, 1), (4, 2), (4, 3), (4, 4), (4, 5), (4, 6), (5, 1), (5, 2), (5, 3), (5, 4), (5, 5), (5, 6), (6, 1), (6, 2), (6, 3), (6, 4), (6, 5), (6, 6)] \n\n\nThese outcomes sum up to 7: {(4, 3), (1, 6), (6, 1), (2, 5), (3, 4), (5, 2)}\n"
     ]
    }
   ],
   "source": [
    "#Creates the sample space of 2-dice thrown simultaneously\n",
    "two_dice = []\n",
    "for i in range(1,7):\n",
    "    j = 1\n",
    "    while j < 7:\n",
    "        two_dice.append((i, j))\n",
    "        j += 1\n",
    "print(f'sample space: {two_dice} \\n')\n",
    "\n",
    "#Creates the event that they sum up to 7\n",
    "sum_equals_seven = []\n",
    "for x, y in two_dice:\n",
    "    if x + y == 7:\n",
    "        sum_equals_seven.append((x,y))\n",
    "\n",
    "print(f'\\nThese outcomes sum up to 7: {set(sum_equals_seven)}')\n"
   ]
  },
  {
   "cell_type": "code",
   "execution_count": 107,
   "metadata": {},
   "outputs": [
    {
     "output_type": "stream",
     "name": "stdout",
     "text": [
      "1.0\n\n 0.0\n"
     ]
    }
   ],
   "source": [
    "sample_space = {'heads', 'tails'}\n",
    "prob_space = {'heads': 1/2, 'tails': 1/2}\n",
    "A = sample_space\n",
    "\n",
    "total = 0\n",
    "for outcome in A:\n",
    "    total += prob_space[outcome]\n",
    "\n",
    "print(total)\n",
    "both_shows_simultaneously = 1 - total\n",
    "print(f'\\n {both_shows_simultaneously}')"
   ]
  },
  {
   "cell_type": "code",
   "execution_count": 1,
   "metadata": {},
   "outputs": [],
   "source": [
    "prob_space = {'sunny': 1/2, 'rainy': 1/6, 'snowy': 1/3}\n",
    "W_mapping = {'sunny': 'sunny', 'rainy': 'rainy', 'snowy': 'snowy'}\n",
    "I_mapping = {'sunny': 1, 'rainy': 0, 'snowy': 0}"
   ]
  },
  {
   "cell_type": "code",
   "execution_count": 3,
   "metadata": {},
   "outputs": [],
   "source": [
    "import comp_prob_inference"
   ]
  },
  {
   "cell_type": "code",
   "execution_count": 6,
   "metadata": {},
   "outputs": [
    {
     "output_type": "stream",
     "name": "stdout",
     "text": [
      "0\nsnowy\n"
     ]
    }
   ],
   "source": [
    "random_outcome = comp_prob_inference.sample_from_finite_probability_space(prob_space)\n",
    "W = W_mapping[random_outcome]\n",
    "I = I_mapping[random_outcome]\n",
    "print(f'{I}\\n{W}')\n",
    "\n"
   ]
  },
  {
   "cell_type": "code",
   "execution_count": null,
   "metadata": {},
   "outputs": [],
   "source": []
  }
 ]
}